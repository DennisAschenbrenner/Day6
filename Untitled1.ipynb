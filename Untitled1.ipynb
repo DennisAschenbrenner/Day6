{
 "cells": [
  {
   "cell_type": "code",
   "execution_count": 25,
   "metadata": {},
   "outputs": [],
   "source": [
    "class TipOutTracker():\n",
    "    \n",
    "    def __init__(self, default_tip):\n",
    "        self.total =[]\n",
    "        self.default_tip = default_tip\n",
    "        #self.bill\n",
    "    \n",
    "    def add_bill(self, bill, tip=None):\n",
    "        if tip == None:\n",
    "            tip = self.default_tip\n",
    "        self.total.append((bill, tip))\n",
    "        print(self.total)\n",
    "\n",
    "    #if tip != 0:\n",
    "    #    tip += tip\n",
    "    \n",
    "    def total_tip_out(self):\n",
    "        return sum([bill*tip for bill,tip in self.total])\n",
    "    \n",
    "    def __len__(self):\n",
    "        return len(self.total)\n",
    "    \n"
   ]
  },
  {
   "cell_type": "code",
   "execution_count": 26,
   "metadata": {},
   "outputs": [
    {
     "name": "stdout",
     "output_type": "stream",
     "text": [
      "[(58.9, 0.15)]\n",
      "[(58.9, 0.15), (31.58, 0.18)]\n"
     ]
    }
   ],
   "source": [
    "tot = TipOutTracker(0.18)\n",
    "tot.add_bill(58.90, 0.15)\n",
    "tot.add_bill(31.58)"
   ]
  },
  {
   "cell_type": "code",
   "execution_count": 27,
   "metadata": {},
   "outputs": [
    {
     "name": "stdout",
     "output_type": "stream",
     "text": [
      "14.519399999999997\n",
      "[(58.9, 0.15), (31.58, 0.18), (81.44, 0.2)]\n",
      "30.807399999999998\n"
     ]
    }
   ],
   "source": [
    "print(tot.total_tip_out())\n",
    "tot.add_bill(81.44, 0.20)\n",
    "print(tot.total_tip_out())"
   ]
  },
  {
   "cell_type": "code",
   "execution_count": 28,
   "metadata": {},
   "outputs": [
    {
     "data": {
      "text/plain": [
       "3"
      ]
     },
     "execution_count": 28,
     "metadata": {},
     "output_type": "execute_result"
    }
   ],
   "source": [
    "len(tot)"
   ]
  },
  {
   "cell_type": "markdown",
   "metadata": {},
   "source": [
    "tot = TipOutTracker(0.18)\n",
    "tot.add_bill(58.90, 0.15)\n",
    "tot.add_bill(31.58)\n",
    "print tot.total_tip_out()\n",
    "tot.add_bill(81.44, 0.20)\n",
    "print len(tot)"
   ]
  }
 ],
 "metadata": {
  "kernelspec": {
   "display_name": "Python [conda env:nf] *",
   "language": "python",
   "name": "conda-env-nf-py"
  },
  "language_info": {
   "codemirror_mode": {
    "name": "ipython",
    "version": 3
   },
   "file_extension": ".py",
   "mimetype": "text/x-python",
   "name": "python",
   "nbconvert_exporter": "python",
   "pygments_lexer": "ipython3",
   "version": "3.6.6"
  }
 },
 "nbformat": 4,
 "nbformat_minor": 2
}
