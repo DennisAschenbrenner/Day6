{
 "cells": [
  {
   "cell_type": "code",
   "execution_count": null,
   "metadata": {},
   "outputs": [
    {
     "name": "stdout",
     "output_type": "stream",
     "text": [
      "Welcome!\n",
      "\n",
      "[[1 2 3]\n",
      " [4 5 6]\n",
      " [7 8 9]]\n",
      "[[1 2 3]\n",
      " [4 5 6]\n",
      " [7 8 9]]\n"
     ]
    }
   ],
   "source": [
    "print(\"Welcome!\\n\")\n",
    "\n",
    "import numpy as np\n",
    "board =  np.arange(1, 10).reshape(3,3)\n",
    "\n",
    "print(board)\n",
    "\n",
    "def winner(board):\n",
    "    if (board[0,0] == board[0,1] == board[0,2] or\n",
    "       board[1,0] == board[1,1] == board[1,2] or\n",
    "       board[2,0] == board[2,1] == board[2,2] or\n",
    "       board[0,0] == board[1,0] == board[2,0] or\n",
    "       board[0,1] == board[1,1] == board[2,1] or\n",
    "       board[0,2] == board[1,2] == board[2,2] or\n",
    "       board[0,0] == board[1,1] == board[2,2]):\n",
    "        \n",
    "        return True\n",
    "    else:\n",
    "        return False\n",
    "\n",
    "print(board)\n",
    "\n",
    "\n",
    "counter = 2\n",
    "selection = 10\n",
    "\n",
    "while winner(board) == False and counter < 11:\n",
    "    if counter % 2 == 0:\n",
    "        while (selection not in board or selection == (10 or 20)):\n",
    "            selection = input(\"Player 1, please select field: \")\n",
    "        board[board.index(selection)] = 10\n",
    "        \n",
    "        print(board)\n",
    "       \n",
    "        counter += 1\n",
    "\n",
    "    else:\n",
    "        while (selection not in board or selection == (10 or 20)):\n",
    "            selection = input(\"Player 2, please select field: \")\n",
    "        board[board.index(selection)] = 20\n",
    "        \n",
    "        print(board)\n",
    "        counter += 1\n",
    "\n",
    "if winner(board) == False and counter == 11:\n",
    "    print(\"No winner!\")\n",
    "elif counter % 2 == 0:\n",
    "    print(\"Player 2. You won!\")\n",
    "else:\n",
    "    print(\"Player 1. You won!\")"
   ]
  },
  {
   "cell_type": "code",
   "execution_count": null,
   "metadata": {},
   "outputs": [],
   "source": []
  }
 ],
 "metadata": {
  "kernelspec": {
   "display_name": "Python [conda env:nf] *",
   "language": "python",
   "name": "conda-env-nf-py"
  },
  "language_info": {
   "codemirror_mode": {
    "name": "ipython",
    "version": 3
   },
   "file_extension": ".py",
   "mimetype": "text/x-python",
   "name": "python",
   "nbconvert_exporter": "python",
   "pygments_lexer": "ipython3",
   "version": "3.6.6"
  }
 },
 "nbformat": 4,
 "nbformat_minor": 2
}
