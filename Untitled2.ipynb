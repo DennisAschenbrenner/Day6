{
 "cells": [
  {
   "cell_type": "code",
   "execution_count": 30,
   "metadata": {},
   "outputs": [
    {
     "ename": "NameError",
     "evalue": "name 'row' is not defined",
     "output_type": "error",
     "traceback": [
      "\u001b[0;31m---------------------------------------------------------------------------\u001b[0m",
      "\u001b[0;31mNameError\u001b[0m                                 Traceback (most recent call last)",
      "\u001b[0;32m<ipython-input-30-3a65caea02e6>\u001b[0m in \u001b[0;36m<module>\u001b[0;34m()\u001b[0m\n\u001b[0;32m----> 1\u001b[0;31m \u001b[0mrow\u001b[0m\u001b[0;34m\u001b[0m\u001b[0m\n\u001b[0m",
      "\u001b[0;31mNameError\u001b[0m: name 'row' is not defined"
     ]
    }
   ],
   "source": [
    "print(\"Welcome\\n\")\n",
    "\n",
    "import numpy as np\n",
    "board =  np.arange(2, 11).reshape(3,3)\n",
    "\n",
    "print(board)\n",
    "\n",
    "def winner(board):\n",
    "    if board[0,0] == board[0,1] == board[0,2] or\n",
    "       board[1,0] == board[1,1] == board[1,2] or\n",
    "       board[2,0] == board[2,1] == board[2,2] or\n",
    "       board[0,0] == board[0,1] == board[0,2] or\n",
    "       board[0,0] == board[0,1] == board[0,2] or\n",
    "       board[0,0] == board[0,1] == board[0,2] or\n",
    "       board[0,0] == board[0,1] == board[0,2]\n",
    "        \n",
    "        return True\n",
    "    else:\n",
    "        return False\n",
    "\n",
    "print(board[:3])\n",
    "print(board[3:6])\n",
    "print(board[6:], \"\\n\")\n",
    "\n",
    "counter = 2\n",
    "selection = 10\n",
    "\n",
    "while winner(board) == False and counter < 11:\n",
    "    if counter % 2 == 0:\n",
    "        while (selection not in board or selection == (\"X\" or \"O\")):\n",
    "            selection = input(\"Player 1, please select field: \")\n",
    "        board[board.index(selection)] = \"X\"\n",
    "        print(\"\\n\")\n",
    "        print(board[:3])\n",
    "        print(board[3:6])\n",
    "        print(board[6:], \"\\n\")\n",
    "        counter += 1\n",
    "\n",
    "    else:\n",
    "        while (selection not in board or selection == (\"X\" or \"O\")):\n",
    "            selection = input(\"Player 2, please select field: \")\n",
    "        board[board.index(selection)] = \"O\"\n",
    "        print(\"\\n\")\n",
    "        print(board[:3])\n",
    "        print(board[3:6])\n",
    "        print(board[6:], \"\\n\")\n",
    "        counter += 1\n",
    "\n",
    "if checker(board) == False and counter == 11:\n",
    "    print(\"Tie! No winner this round!\")\n",
    "elif counter % 2 == 0:\n",
    "    print(\"Congratulations Player 2. You won!\")\n",
    "else:\n",
    "    print(\"Congratulations Player 1. You won!\")"
   ]
  },
  {
   "cell_type": "code",
   "execution_count": 40,
   "metadata": {},
   "outputs": [],
   "source": [
    "import numpy as np\n",
    "board =  np.arange(1, 10).reshape(3,3)"
   ]
  },
  {
   "cell_type": "code",
   "execution_count": 41,
   "metadata": {},
   "outputs": [
    {
     "data": {
      "text/plain": [
       "array([[1, 2, 3],\n",
       "       [4, 5, 6],\n",
       "       [7, 8, 9]])"
      ]
     },
     "execution_count": 41,
     "metadata": {},
     "output_type": "execute_result"
    }
   ],
   "source": [
    "board"
   ]
  },
  {
   "cell_type": "code",
   "execution_count": 43,
   "metadata": {},
   "outputs": [
    {
     "data": {
      "text/plain": [
       "array([4, 5, 6])"
      ]
     },
     "execution_count": 43,
     "metadata": {},
     "output_type": "execute_result"
    }
   ],
   "source": [
    "board[1]"
   ]
  },
  {
   "cell_type": "code",
   "execution_count": null,
   "metadata": {},
   "outputs": [],
   "source": []
  }
 ],
 "metadata": {
  "kernelspec": {
   "display_name": "Python [conda env:nf] *",
   "language": "python",
   "name": "conda-env-nf-py"
  },
  "language_info": {
   "codemirror_mode": {
    "name": "ipython",
    "version": 3
   },
   "file_extension": ".py",
   "mimetype": "text/x-python",
   "name": "python",
   "nbconvert_exporter": "python",
   "pygments_lexer": "ipython3",
   "version": "3.6.6"
  }
 },
 "nbformat": 4,
 "nbformat_minor": 2
}
