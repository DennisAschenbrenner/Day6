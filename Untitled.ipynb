{
 "cells": [
  {
   "cell_type": "code",
   "execution_count": 5,
   "metadata": {},
   "outputs": [
    {
     "ename": "TypeError",
     "evalue": "__init__() missing 1 required positional argument: 'name'",
     "output_type": "error",
     "traceback": [
      "\u001b[0;31m---------------------------------------------------------------------------\u001b[0m",
      "\u001b[0;31mTypeError\u001b[0m                                 Traceback (most recent call last)",
      "\u001b[0;32m<ipython-input-5-a059f32a0ad2>\u001b[0m in \u001b[0;36m<module>\u001b[0;34m()\u001b[0m\n\u001b[1;32m     16\u001b[0m \u001b[0;34m\u001b[0m\u001b[0m\n\u001b[1;32m     17\u001b[0m \u001b[0;34m\u001b[0m\u001b[0m\n\u001b[0;32m---> 18\u001b[0;31m \u001b[0mour_last_class\u001b[0m \u001b[0;34m=\u001b[0m \u001b[0mOurClass\u001b[0m\u001b[0;34m(\u001b[0m\u001b[0;34m)\u001b[0m\u001b[0;34m\u001b[0m\u001b[0m\n\u001b[0m",
      "\u001b[0;31mTypeError\u001b[0m: __init__() missing 1 required positional argument: 'name'"
     ]
    }
   ],
   "source": [
    "class OurClass():\n",
    "       \n",
    "    def __init__(self,name):\n",
    "        self.name = name\n",
    "\n",
    "\n",
    "\n",
    "our_python_class = OurClass('Intro Python')\n",
    "\n",
    "our_ds_class = OurClass('Data Science')\n",
    "\n",
    "our_python_class.name\n",
    "\n",
    "\n",
    "our_ds_class.name\n",
    "\n",
    "\n",
    "our_last_class = OurClass()"
   ]
  },
  {
   "cell_type": "code",
   "execution_count": 6,
   "metadata": {},
   "outputs": [
    {
     "data": {
      "text/plain": [
       "('Data Science', 'Platte', 15)"
      ]
     },
     "execution_count": 6,
     "metadata": {},
     "output_type": "execute_result"
    }
   ],
   "source": [
    "class OurClass():\n",
    "        \n",
    "        def __init__(self, name, location, size=0):\n",
    "            self.name = name\n",
    "            self.location = location\n",
    "            self.size = size\n",
    "\n",
    "our_python_class = OurClass('Intro Python', 'Platte')\n",
    "\n",
    "our_ds_class = OurClass('Data Science', 'Platte', 15)\n",
    "\n",
    "our_python_class.name, our_python_class.location, our_python_class.size\n",
    "\n",
    "\n",
    "our_ds_class.name, our_ds_class.location, our_ds_class.size\n"
   ]
  },
  {
   "cell_type": "code",
   "execution_count": null,
   "metadata": {},
   "outputs": [],
   "source": []
  }
 ],
 "metadata": {
  "kernelspec": {
   "display_name": "Python [conda env:nf] *",
   "language": "python",
   "name": "conda-env-nf-py"
  },
  "language_info": {
   "codemirror_mode": {
    "name": "ipython",
    "version": 3
   },
   "file_extension": ".py",
   "mimetype": "text/x-python",
   "name": "python",
   "nbconvert_exporter": "python",
   "pygments_lexer": "ipython3",
   "version": "3.6.6"
  }
 },
 "nbformat": 4,
 "nbformat_minor": 2
}
